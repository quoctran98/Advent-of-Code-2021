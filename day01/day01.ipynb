{
 "cells": [
  {
   "cell_type": "code",
   "execution_count": 2,
   "metadata": {},
   "outputs": [
    {
     "name": "stdout",
     "output_type": "stream",
     "text": [
      "hello world\n"
     ]
    }
   ],
   "source": [
    "print(\"hello world\")"
   ]
  },
  {
   "cell_type": "markdown",
   "metadata": {},
   "source": [
    "#### header\n",
    "\n",
    "****\n",
    "\n",
    "normal **bold** *italics* ~~strikethrough~~\n",
    "\n",
    "[link](www.google.com)"
   ]
  },
  {
   "cell_type": "code",
   "execution_count": 18,
   "metadata": {},
   "outputs": [
    {
     "name": "stdout",
     "output_type": "stream",
     "text": [
      "1292\n"
     ]
    }
   ],
   "source": [
    "input = open(\"./input.txt\", \"r\").readlines()\n",
    "\n",
    "lastDepth = float(\"inf\")\n",
    "increases = 0\n",
    "\n",
    "for line in input:\n",
    "    depth = int(line.rstrip(\"\\n\"))\n",
    "    if (depth > lastDepth):\n",
    "        increases += 1\n",
    "    lastDepth = depth\n",
    "\n",
    "print(increases)"
   ]
  },
  {
   "cell_type": "code",
   "execution_count": 27,
   "metadata": {},
   "outputs": [],
   "source": [
    "input = open(\"./input.txt\", \"r\").readlines()\n",
    "\n",
    "lastGroup = float(\"inf\")\n",
    "increases = 0\n",
    "\n",
    "for i in range(0,len(input) - 3):\n",
    "    first = int(input[i].rstrip(\"\\n\"))\n",
    "    second = int(input[i+1].rstrip(\"\\n\"))\n",
    "    third = int(input[i+2].rstrip(\"\\n\"))\n",
    "\n",
    "    thisGroup = first + second + third\n",
    "    if (thisGroup > lastGroup):\n",
    "        increases += 1\n",
    "    lastGroup = thisGroup\n",
    "\n",
    "print(increases)"
   ]
  }
 ],
 "metadata": {
  "interpreter": {
   "hash": "31f2aee4e71d21fbe5cf8b01ff0e069b9275f58929596ceb00d14d90e3e16cd6"
  },
  "kernelspec": {
   "display_name": "Python 3.7.3 64-bit",
   "language": "python",
   "name": "python3"
  },
  "language_info": {
   "codemirror_mode": {
    "name": "ipython",
    "version": 3
   },
   "file_extension": ".py",
   "mimetype": "text/x-python",
   "name": "python",
   "nbconvert_exporter": "python",
   "pygments_lexer": "ipython3",
   "version": "3.7.3"
  },
  "orig_nbformat": 4
 },
 "nbformat": 4,
 "nbformat_minor": 2
}
