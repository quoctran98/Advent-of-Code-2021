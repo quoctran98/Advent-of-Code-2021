{
 "cells": [
  {
   "cell_type": "code",
   "execution_count": 88,
   "metadata": {},
   "outputs": [
    {
     "name": "stdout",
     "output_type": "stream",
     "text": [
      "58412\n"
     ]
    }
   ],
   "source": [
    "input = open(\"./input.txt\", \"r\").readlines()\n",
    "input = list(map(lambda x: x.rstrip(\"\\n\"), input))\n",
    "\n",
    "numbers = [int(x) for x in input[0].split(\",\")]\n",
    "\n",
    "boards = []\n",
    "thisBoard = []\n",
    "for line in input[2:len(input)]:\n",
    "    if line == \"\":\n",
    "        thisBoard = []\n",
    "        boards.append(thisBoard)\n",
    "    else: \n",
    "        thisBoard.append([int(x) for x in line.split(\" \") if x != \"\"])\n",
    "\n",
    "def checkBingo(board):\n",
    "    for row in board:\n",
    "        if row == [\"\"]*5:\n",
    "            return(True)\n",
    "    for col in range(5):\n",
    "        if [x[col] for x in board] == [\"\"]*5:\n",
    "            return(True)\n",
    "    return(False)\n",
    "\n",
    "bingoed = False\n",
    "for number in numbers:\n",
    "    flatList = [z for x in boards for y in x for z in y]\n",
    "    flatList = [\"\" if x == number else x for x in flatList]\n",
    "    nestedList = [flatList[x:x+5] for x in range(0, len(flatList),5)]\n",
    "    boards = [nestedList[x:x+5] for x in range(0, len(nestedList),5)]        \n",
    "\n",
    "    for board in boards:\n",
    "        if checkBingo(board):\n",
    "            print(sum([y for x in board for y in x if y != \"\"])*number)\n",
    "            bingoed = True\n",
    "            break\n",
    "    if bingoed:\n",
    "        break\n"
   ]
  },
  {
   "cell_type": "code",
   "execution_count": 100,
   "metadata": {},
   "outputs": [
    {
     "name": "stdout",
     "output_type": "stream",
     "text": [
      "10030\n"
     ]
    }
   ],
   "source": [
    "input = open(\"./input.txt\", \"r\").readlines()\n",
    "input = list(map(lambda x: x.rstrip(\"\\n\"), input))\n",
    "\n",
    "numbers = [int(x) for x in input[0].split(\",\")]\n",
    "\n",
    "boards = []\n",
    "thisBoard = []\n",
    "for line in input[2:len(input)]:\n",
    "    if line == \"\":\n",
    "        thisBoard = []\n",
    "        boards.append(thisBoard)\n",
    "    else: \n",
    "        thisBoard.append([int(x) for x in line.split(\" \") if x != \"\"])\n",
    "\n",
    "def checkBingo(board):\n",
    "    for row in board:\n",
    "        if row == [\"\"]*5:\n",
    "            return(True)\n",
    "    for col in range(5):\n",
    "        if [x[col] for x in board] == [\"\"]*5:\n",
    "            return(True)\n",
    "    return(False)\n",
    "\n",
    "bingoed = 0\n",
    "totalBoards = len(boards)\n",
    "for number in numbers:\n",
    "    flatList = [z for x in boards for y in x for z in y]\n",
    "    flatList = [\"\" if x == number else x for x in flatList]\n",
    "    nestedList = [flatList[x:x+5] for x in range(0, len(flatList),5)]\n",
    "    boards = [nestedList[x:x+5] for x in range(0, len(nestedList),5)]        \n",
    "\n",
    "    for board in boards:\n",
    "        if checkBingo(board):\n",
    "            boards.remove(board)\n",
    "            bingoed += 1\n",
    "            if bingoed >= totalBoards: # I'm flirting with an off by one error here I think\n",
    "                print(sum([y for x in board for y in x if y != \"\"])*number)\n",
    "                break\n",
    "    if bingoed >= totalBoards: \n",
    "        break"
   ]
  }
 ],
 "metadata": {
  "interpreter": {
   "hash": "31f2aee4e71d21fbe5cf8b01ff0e069b9275f58929596ceb00d14d90e3e16cd6"
  },
  "kernelspec": {
   "display_name": "Python 3.7.3 64-bit",
   "language": "python",
   "name": "python3"
  },
  "language_info": {
   "codemirror_mode": {
    "name": "ipython",
    "version": 3
   },
   "file_extension": ".py",
   "mimetype": "text/x-python",
   "name": "python",
   "nbconvert_exporter": "python",
   "pygments_lexer": "ipython3",
   "version": "3.7.3"
  },
  "orig_nbformat": 4
 },
 "nbformat": 4,
 "nbformat_minor": 2
}
