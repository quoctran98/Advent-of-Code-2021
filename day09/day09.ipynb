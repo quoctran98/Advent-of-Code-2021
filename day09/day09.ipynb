{
 "cells": [
  {
   "cell_type": "code",
   "execution_count": 4,
   "metadata": {},
   "outputs": [
    {
     "name": "stdout",
     "output_type": "stream",
     "text": [
      "475\n"
     ]
    }
   ],
   "source": [
    "input = open(\"./input.txt\", \"r\").readlines()\n",
    "input = [list(map(int, list(x.rstrip(\"\\n\")))) for x in input]\n",
    "\n",
    "# inverted in array but maintains [x][y] order\n",
    "maxX = len(input) - 1\n",
    "maxY = len(input[0]) - 1\n",
    "\n",
    "# overflows for edge cases (literally)\n",
    "input.append([10]*maxX)\n",
    "[x.append(10) for x in input]\n",
    "\n",
    "def isLowest(x,y):\n",
    "    height = input[x][y]\n",
    "    up = input[x][y-1]\n",
    "    down = input[x][y+1]\n",
    "    left = input[x-1][y]\n",
    "    right = input[x+1][y]\n",
    "    return(height < up and height < down and height < left and height < right)\n",
    "\n",
    "risk = 0\n",
    "\n",
    "for x in range(maxX+1):\n",
    "    for y in range(maxY+1):\n",
    "        if isLowest(x,y):\n",
    "            risk += 1 + input[x][y]\n",
    "\n",
    "print(risk)\n",
    "    "
   ]
  },
  {
   "cell_type": "code",
   "execution_count": 60,
   "metadata": {},
   "outputs": [
    {
     "name": "stdout",
     "output_type": "stream",
     "text": [
      "1092012\n"
     ]
    }
   ],
   "source": [
    "input = open(\"./input.txt\", \"r\").readlines()\n",
    "input = [list(map(int, list(x.rstrip(\"\\n\")))) for x in input]\n",
    "\n",
    "# inverted in array but maintains [x][y] order\n",
    "maxX = len(input) - 1\n",
    "maxY = len(input[0]) - 1\n",
    "\n",
    "# overflows for edge cases (literally)\n",
    "input.append([10]*maxY)\n",
    "[x.append(10) for x in input]\n",
    "\n",
    "def isLowest(x,y):\n",
    "    height = input[x][y]\n",
    "    up = input[x][y-1]\n",
    "    down = input[x][y+1]\n",
    "    left = input[x-1][y]\n",
    "    right = input[x+1][y]\n",
    "    return(height < up and height < down and height < left and height < right)\n",
    "\n",
    "basins = []\n",
    "\n",
    "for x in range(maxX+1):\n",
    "    for y in range(maxY+1):\n",
    "        if isLowest(x,y):\n",
    "            basins.append((x,y))\n",
    "\n",
    "def basinSize(thisPoint, points):\n",
    "    x = thisPoint[0]\n",
    "    y = thisPoint[1]\n",
    "    height = input[x][y]\n",
    "\n",
    "    newPoints = points\n",
    "\n",
    "    if input[x][y-1] > height and input[x][y-1] < 9 and (x,y-1) not in points:\n",
    "        newPoints.append((x,y-1))\n",
    "        basinSize((x,y-1), newPoints)\n",
    "\n",
    "    if input[x][y+1] > height and input[x][y+1] < 9 and (x,y+1) not in points:\n",
    "        newPoints.append((x,y+1))\n",
    "        basinSize((x,y+1), newPoints)\n",
    "\n",
    "    if input[x-1][y] > height and input[x-1][y] < 9 and (x-1,y) not in points:\n",
    "        newPoints.append((x-1,y))\n",
    "        basinSize((x-1,y), newPoints)\n",
    "\n",
    "    if input[x+1][y] > height and input[x+1][y] < 9 and (x+1,y) not in points:\n",
    "        newPoints.append((x+1,y))\n",
    "        basinSize((x+1,y), newPoints)\n",
    "\n",
    "    return(len(points)+1)\n",
    "\n",
    "sizes = [basinSize(x, points = []) for x in basins]\n",
    "answer = sizes.pop(sizes.index(max(sizes)))\n",
    "answer *= sizes.pop(sizes.index(max(sizes)))\n",
    "answer *= sizes.pop(sizes.index(max(sizes)))\n",
    "print(answer)"
   ]
  }
 ],
 "metadata": {
  "interpreter": {
   "hash": "31f2aee4e71d21fbe5cf8b01ff0e069b9275f58929596ceb00d14d90e3e16cd6"
  },
  "kernelspec": {
   "display_name": "Python 3.7.3 64-bit",
   "language": "python",
   "name": "python3"
  },
  "language_info": {
   "codemirror_mode": {
    "name": "ipython",
    "version": 3
   },
   "file_extension": ".py",
   "mimetype": "text/x-python",
   "name": "python",
   "nbconvert_exporter": "python",
   "pygments_lexer": "ipython3",
   "version": "3.7.3"
  },
  "orig_nbformat": 4
 },
 "nbformat": 4,
 "nbformat_minor": 2
}
