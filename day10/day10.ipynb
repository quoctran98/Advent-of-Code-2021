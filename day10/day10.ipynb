{
 "cells": [
  {
   "cell_type": "code",
   "execution_count": 15,
   "metadata": {},
   "outputs": [
    {
     "name": "stdout",
     "output_type": "stream",
     "text": [
      "367059\n"
     ]
    }
   ],
   "source": [
    "input = open(\"./input.txt\", \"r\").readlines()\n",
    "input = [x.rstrip(\"\\n\") for x in input]\n",
    "\n",
    "chunks = {\n",
    "    \"(\":\")\",\n",
    "    \"[\":\"]\",\n",
    "    \"{\":\"}\",\n",
    "    \"<\":\">\"\n",
    "}\n",
    "\n",
    "scores = {\n",
    "    \")\": 3,\n",
    "    \"]\": 57,\n",
    "    \"}\": 1197,\n",
    "    \">\": 25137\n",
    "}\n",
    "\n",
    "def corrupted(line):\n",
    "    line = [x for x in line]\n",
    "    closing = []\n",
    "    for char in line:\n",
    "        if char in chunks:\n",
    "            closing.append(chunks[char])\n",
    "        else:\n",
    "            if char != closing.pop(-1):\n",
    "                return(scores[char])\n",
    "    return(0)\n",
    "\n",
    "print(sum(list(map(corrupted, input))))"
   ]
  },
  {
   "cell_type": "code",
   "execution_count": 35,
   "metadata": {},
   "outputs": [
    {
     "name": "stdout",
     "output_type": "stream",
     "text": [
      "1952146692\n"
     ]
    }
   ],
   "source": [
    "import statistics\n",
    "\n",
    "input = open(\"./input.txt\", \"r\").readlines()\n",
    "input = [x.rstrip(\"\\n\") for x in input]\n",
    "\n",
    "chunks = {\n",
    "    \"(\":\")\",\n",
    "    \"[\":\"]\",\n",
    "    \"{\":\"}\",\n",
    "    \"<\":\">\"\n",
    "}\n",
    "\n",
    "scores = {\n",
    "    \")\": 1,\n",
    "    \"]\": 2,\n",
    "    \"}\": 3,\n",
    "    \">\": 4\n",
    "}\n",
    "\n",
    "def incomplete(line):\n",
    "    line = [x for x in line]\n",
    "    closing = []\n",
    "    for char in line:\n",
    "        if char in chunks:\n",
    "            closing.append(chunks[char])\n",
    "        else:\n",
    "            if char != closing.pop(-1):\n",
    "                return(0)\n",
    "\n",
    "    score = 0\n",
    "    closing.reverse()\n",
    "    for char in closing:\n",
    "        score *= 5\n",
    "        score += scores[char]\n",
    "    return(score)\n",
    "\n",
    "\n",
    "print(statistics.median([x for x in list(map(incomplete, input)) if x != 0]))"
   ]
  }
 ],
 "metadata": {
  "interpreter": {
   "hash": "31f2aee4e71d21fbe5cf8b01ff0e069b9275f58929596ceb00d14d90e3e16cd6"
  },
  "kernelspec": {
   "display_name": "Python 3.7.3 64-bit",
   "language": "python",
   "name": "python3"
  },
  "language_info": {
   "codemirror_mode": {
    "name": "ipython",
    "version": 3
   },
   "file_extension": ".py",
   "mimetype": "text/x-python",
   "name": "python",
   "nbconvert_exporter": "python",
   "pygments_lexer": "ipython3",
   "version": "3.7.3"
  },
  "orig_nbformat": 4
 },
 "nbformat": 4,
 "nbformat_minor": 2
}
