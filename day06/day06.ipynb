{
 "cells": [
  {
   "cell_type": "code",
   "execution_count": 30,
   "metadata": {},
   "outputs": [
    {
     "name": "stdout",
     "output_type": "stream",
     "text": [
      "362639\n"
     ]
    }
   ],
   "source": [
    "input = open(\"./input.txt\", \"r\").read().split(\",\")\n",
    "input = [int(x) for x in input]\n",
    "\n",
    "fish = input\n",
    "for day in range(80):\n",
    "    newFish = sum([x == 0 for x in fish])\n",
    "    fish = [6 if x == 0 else x-1 for x in fish]\n",
    "    fish.extend([8]*newFish)\n",
    "\n",
    "print(len(fish))"
   ]
  },
  {
   "cell_type": "code",
   "execution_count": 22,
   "metadata": {},
   "outputs": [
    {
     "name": "stdout",
     "output_type": "stream",
     "text": [
      "1708103622302\n"
     ]
    }
   ],
   "source": [
    "input = open(\"./input.txt\", \"r\").read().split(\",\")\n",
    "input = [int(x) for x in input]\n",
    "\n",
    "# Each fish has progeny independent of other fish\n",
    "initialFish = [0,1,2,3,4,5,6,7,8]\n",
    "progeny64 = []\n",
    "for fish in initialFish:\n",
    "    fish = [fish]\n",
    "    for day in range(64):\n",
    "        newFish = sum([x == 0  for x in fish])\n",
    "        fish = [6 if x == 0 else x-1 for x in fish]\n",
    "        fish.extend([8]*newFish)\n",
    "    progeny64.append(len(fish))\n",
    "\n",
    "# Distributions after 128 days\n",
    "initialFish = [0,1,2,3,4,5,6,7,8]\n",
    "progeny128 = []\n",
    "for fish in initialFish:\n",
    "    fish = [fish]\n",
    "    for day in range(64):\n",
    "        newFish = sum([x == 0  for x in fish])\n",
    "        fish = [6 if x == 0 else x-1 for x in fish]\n",
    "        fish.extend([8]*newFish)\n",
    "    thisProgeny = []\n",
    "    for i in range(9):\n",
    "        thisProgeny.append(sum([x == i for x in fish])*progeny64[i])\n",
    "    progeny128.append(thisProgeny)\n",
    "\n",
    "# How many fish an initial fish with age in initialFish[] will spawn after 256 days\n",
    "initialFish = [0,1,2,3,4,5,6,7,8]\n",
    "progeny256 = []\n",
    "for fish in initialFish:\n",
    "    firstHalf = progeny128[fish]\n",
    "    totalProgeny = 0\n",
    "    for i in initialFish:\n",
    "        totalProgeny += firstHalf[i]*(sum(progeny128[i]))\n",
    "    progeny256.append(totalProgeny)\n",
    "\n",
    "print(sum([progeny256[x] for x in input]))"
   ]
  },
  {
   "cell_type": "markdown",
   "metadata": {},
   "source": [
    "This solution didn't work at all, but I think the concept is sound and interesting -- it's just very confusing to grok and to put into code. I still think there's an analytical solution that I was on the verge of. The idea of using distributions is solid though and I can use that to actually solve part 2."
   ]
  },
  {
   "cell_type": "code",
   "execution_count": 32,
   "metadata": {},
   "outputs": [
    {
     "name": "stdout",
     "output_type": "stream",
     "text": [
      "1639854996917\n"
     ]
    }
   ],
   "source": [
    "input = open(\"./input.txt\", \"r\").read().split(\",\")\n",
    "input = [int(x) for x in input]\n",
    "\n",
    "fish = []\n",
    "for x in range(9):\n",
    "    fish.append(sum([each == x for each in input]))\n",
    "\n",
    "for day in range(256):\n",
    "    newFish = fish[0]\n",
    "    fish = fish[1:len(fish)]\n",
    "    fish.append(newFish)\n",
    "    fish[6] += newFish\n",
    "print(sum(fish))"
   ]
  }
 ],
 "metadata": {
  "interpreter": {
   "hash": "31f2aee4e71d21fbe5cf8b01ff0e069b9275f58929596ceb00d14d90e3e16cd6"
  },
  "kernelspec": {
   "display_name": "Python 3.7.3 64-bit",
   "language": "python",
   "name": "python3"
  },
  "language_info": {
   "codemirror_mode": {
    "name": "ipython",
    "version": 3
   },
   "file_extension": ".py",
   "mimetype": "text/x-python",
   "name": "python",
   "nbconvert_exporter": "python",
   "pygments_lexer": "ipython3",
   "version": "3.7.3"
  },
  "orig_nbformat": 4
 },
 "nbformat": 4,
 "nbformat_minor": 2
}
