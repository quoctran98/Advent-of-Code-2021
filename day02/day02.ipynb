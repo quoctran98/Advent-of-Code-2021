{
 "cells": [
  {
   "cell_type": "code",
   "execution_count": 15,
   "metadata": {},
   "outputs": [
    {
     "name": "stdout",
     "output_type": "stream",
     "text": [
      "2039256\n"
     ]
    }
   ],
   "source": [
    "input = open(\"./input.txt\", \"r\").readlines()\n",
    "input = list(map(lambda x: x.rstrip(\"\\n\"), input))\n",
    "\n",
    "forward = sum(map(lambda y: int(y.strip(\"forward\")), [x for x in input if \"forward\" in x]))\n",
    "down = sum(map(lambda y: int(y.strip(\"down\")), [x for x in input if \"down\" in x]))\n",
    "up = sum(map(lambda y: int(y.strip(\"up\")), [x for x in input if \"up\" in x]))\n",
    "\n",
    "print((down-up)*forward)"
   ]
  },
  {
   "cell_type": "code",
   "execution_count": 19,
   "metadata": {},
   "outputs": [
    {
     "ename": "TypeError",
     "evalue": "unsupported operand type(s) for +=: 'int' and 'str'",
     "output_type": "error",
     "traceback": [
      "\u001b[0;31m---------------------------------------------------------------------------\u001b[0m",
      "\u001b[0;31mTypeError\u001b[0m                                 Traceback (most recent call last)",
      "\u001b[0;32m/var/folders/z0/pzfpkbs14y518szcszv5vzfc0000gn/T/ipykernel_25454/2144260256.py\u001b[0m in \u001b[0;36m<module>\u001b[0;34m\u001b[0m\n\u001b[1;32m     11\u001b[0m \u001b[0;34m\u001b[0m\u001b[0m\n\u001b[1;32m     12\u001b[0m     \u001b[0;32mif\u001b[0m \u001b[0minstruction\u001b[0m \u001b[0;34m==\u001b[0m \u001b[0;34m\"forward\"\u001b[0m\u001b[0;34m:\u001b[0m\u001b[0;34m\u001b[0m\u001b[0;34m\u001b[0m\u001b[0m\n\u001b[0;32m---> 13\u001b[0;31m         \u001b[0mforward\u001b[0m \u001b[0;34m+=\u001b[0m \u001b[0mamount\u001b[0m\u001b[0;34m\u001b[0m\u001b[0;34m\u001b[0m\u001b[0m\n\u001b[0m\u001b[1;32m     14\u001b[0m         \u001b[0mdepth\u001b[0m \u001b[0;34m+=\u001b[0m \u001b[0mamount\u001b[0m \u001b[0;34m*\u001b[0m \u001b[0maim\u001b[0m\u001b[0;34m\u001b[0m\u001b[0;34m\u001b[0m\u001b[0m\n\u001b[1;32m     15\u001b[0m     \u001b[0;32melif\u001b[0m \u001b[0minstruction\u001b[0m \u001b[0;34m==\u001b[0m \u001b[0;34m\"down\"\u001b[0m\u001b[0;34m:\u001b[0m\u001b[0;34m\u001b[0m\u001b[0;34m\u001b[0m\u001b[0m\n",
      "\u001b[0;31mTypeError\u001b[0m: unsupported operand type(s) for +=: 'int' and 'str'"
     ]
    }
   ],
   "source": [
    "input = open(\"./input.txt\", \"r\").readlines()\n",
    "input = list(map(lambda x: x.rstrip(\"\\n\"), input))\n",
    "\n",
    "depth = 0\n",
    "forward = 0\n",
    "aim = 0\n",
    "\n",
    "for line in input:\n",
    "    instruction = line.split()[0]\n",
    "    amount = int(line.split()[1])\n",
    "\n",
    "    if instruction == \"forward\":\n",
    "        forward += amount\n",
    "        depth += amount * aim\n",
    "    elif instruction == \"down\":\n",
    "        aim += amount\n",
    "    elif instruction == \"up\":\n",
    "        aim -= amount\n",
    "\n",
    "print(depth*forward)\n"
   ]
  }
 ],
 "metadata": {
  "interpreter": {
   "hash": "31f2aee4e71d21fbe5cf8b01ff0e069b9275f58929596ceb00d14d90e3e16cd6"
  },
  "kernelspec": {
   "display_name": "Python 3.7.3 64-bit",
   "language": "python",
   "name": "python3"
  },
  "language_info": {
   "codemirror_mode": {
    "name": "ipython",
    "version": 3
   },
   "file_extension": ".py",
   "mimetype": "text/x-python",
   "name": "python",
   "nbconvert_exporter": "python",
   "pygments_lexer": "ipython3",
   "version": "3.7.3"
  },
  "orig_nbformat": 4
 },
 "nbformat": 4,
 "nbformat_minor": 2
}
