{
 "cells": [
  {
   "cell_type": "code",
   "execution_count": 17,
   "metadata": {},
   "outputs": [
    {
     "name": "stdout",
     "output_type": "stream",
     "text": [
      "7269\n"
     ]
    }
   ],
   "source": [
    "input = open(\"./input.txt\", \"r\").readlines()\n",
    "input = [x.rstrip(\"\\n\").split(\" -> \") for x in input]\n",
    "\n",
    "vents = []\n",
    "for line in input:\n",
    "    start = tuple([int(x) for x in line[0].split(\",\")])\n",
    "    end = tuple([int(x) for x in line[1].split(\",\")])\n",
    "    if start[0] == end[0]:\n",
    "        for y in range(min([start[1], end[1]]), max([start[1], end[1]])+1):\n",
    "            vents.append((start[0],y))\n",
    "    elif start[1] == end[1]:\n",
    "        for x in range(min([start[0], end[0]]), max([start[0], end[0]])+1):\n",
    "            vents.append((x,start[1]))\n",
    "\n",
    "seen = set()\n",
    "doubles = set()\n",
    "multiVents = 0\n",
    "for vent in vents:\n",
    "    if vent not in seen:\n",
    "        seen.add(vent)\n",
    "    elif vent in seen and vent not in doubles:\n",
    "        doubles.add(vent)\n",
    "        multiVents += 1\n",
    "\n",
    "print(multiVents)"
   ]
  },
  {
   "cell_type": "code",
   "execution_count": 19,
   "metadata": {},
   "outputs": [
    {
     "name": "stdout",
     "output_type": "stream",
     "text": [
      "21140\n"
     ]
    }
   ],
   "source": [
    "input = open(\"./input.txt\", \"r\").readlines()\n",
    "input = [x.rstrip(\"\\n\").split(\" -> \") for x in input]\n",
    "\n",
    "vents = []\n",
    "for line in input:\n",
    "    start = tuple([int(x) for x in line[0].split(\",\")])\n",
    "    end = tuple([int(x) for x in line[1].split(\",\")])\n",
    "    if start[0] == end[0]:\n",
    "        for y in range(min([start[1], end[1]]), max([start[1], end[1]])+1):\n",
    "            vents.append((start[0],y))\n",
    "    elif start[1] == end[1]:\n",
    "        for x in range(min([start[0], end[0]]), max([start[0], end[0]])+1):\n",
    "            vents.append((x,start[1]))\n",
    "    else: \n",
    "        # Diagonals: so inelegant, but I'm still getting the hang of range() \n",
    "        # I want something like the : operator in R (and 1-indexing)\n",
    "        slope = (end[1]-start[1])/(end[0]-start[0])\n",
    "        if slope == 1:\n",
    "            if end[0] > start[0]:\n",
    "                for x in range(end[0]-start[0]+1):\n",
    "                    vents.append((start[0]+x,start[1]+x))\n",
    "            else:\n",
    "                for x in range(start[0]-end[0]+1):\n",
    "                    vents.append((start[0]-x,start[1]-x))\n",
    "        elif slope == -1:\n",
    "            if end[0] > start[0]:\n",
    "                for x in range(end[0]-start[0]+1):\n",
    "                    vents.append((start[0]+x,start[1]-x))\n",
    "            elif end[1] > start[1]:\n",
    "                for y in range(end[1]-start[1]+1):\n",
    "                    vents.append((start[0]-y,start[1]+y))\n",
    "\n",
    "seen = set()\n",
    "doubles = set()\n",
    "multiVents = 0\n",
    "for vent in vents:\n",
    "    if vent not in seen:\n",
    "        seen.add(vent)\n",
    "    elif vent in seen and vent not in doubles:\n",
    "        doubles.add(vent)\n",
    "        multiVents += 1\n",
    "\n",
    "print(multiVents)"
   ]
  }
 ],
 "metadata": {
  "interpreter": {
   "hash": "31f2aee4e71d21fbe5cf8b01ff0e069b9275f58929596ceb00d14d90e3e16cd6"
  },
  "kernelspec": {
   "display_name": "Python 3.7.3 64-bit",
   "language": "python",
   "name": "python3"
  },
  "language_info": {
   "codemirror_mode": {
    "name": "ipython",
    "version": 3
   },
   "file_extension": ".py",
   "mimetype": "text/x-python",
   "name": "python",
   "nbconvert_exporter": "python",
   "pygments_lexer": "ipython3",
   "version": "3.7.3"
  },
  "orig_nbformat": 4
 },
 "nbformat": 4,
 "nbformat_minor": 2
}
