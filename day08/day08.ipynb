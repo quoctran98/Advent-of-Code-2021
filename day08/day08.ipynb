{
 "cells": [
  {
   "cell_type": "code",
   "execution_count": 19,
   "metadata": {},
   "outputs": [
    {
     "name": "stdout",
     "output_type": "stream",
     "text": [
      "488\n"
     ]
    }
   ],
   "source": [
    "input = open(\"./input.txt\", \"r\").readlines()\n",
    "input = [x.rstrip(\"\\n\").split(\" | \") for x in input]\n",
    "\n",
    "total = 0\n",
    "\n",
    "for display in input:\n",
    "    output = display[1].split(\" \")\n",
    "    output = [len(x) for x in output]\n",
    "    total += sum([x in [2,4,3,7] for x in output])\n",
    "\n",
    "print(total)"
   ]
  },
  {
   "cell_type": "code",
   "execution_count": 165,
   "metadata": {},
   "outputs": [
    {
     "name": "stdout",
     "output_type": "stream",
     "text": [
      "1040429\n"
     ]
    }
   ],
   "source": [
    "input = open(\"./input.txt\", \"r\").readlines()\n",
    "\n",
    "total = 0\n",
    "\n",
    "for display in input:\n",
    "    leftOfDelim = display.rstrip(\"\\n\").split(\" | \")[0]\n",
    "    rightOfDelim = display.rstrip(\"\\n\").split(\" | \")[1]\n",
    "    numbers = [set(x) for x in leftOfDelim.split(\" \")]\n",
    "    output = [set(x) for x in rightOfDelim.split(\" \")]\n",
    "\n",
    "    count = list(map(len, numbers))\n",
    "\n",
    "    num = {\n",
    "        \"zero\": {},\n",
    "        \"one\": numbers[count.index(2)],\n",
    "        \"two\": {},\n",
    "        \"three\": {},\n",
    "        \"four\": numbers[count.index(4)],\n",
    "        \"five\": {},\n",
    "        \"six\": {},\n",
    "        \"seven\": numbers[count.index(3)],\n",
    "        \"eight\": numbers[count.index(7)],\n",
    "        \"nine\": {}\n",
    "    }\n",
    "\n",
    "    segments = {\n",
    "        \"top\": num[\"seven\"] - num[\"one\"],\n",
    "        \"middle\": {},\n",
    "        \"bottom\": {},\n",
    "        \"top_left\": {},\n",
    "        \"top_right\": {},\n",
    "        \"bottom_left\": {},\n",
    "        \"bottom_right\": {},\n",
    "    }\n",
    "\n",
    "    # using intersection of six, nine, and zero with one to find top_right segement\n",
    "    segments[\"top_right\"] = [x for x in [num[\"one\"] - x for x in [numbers[x[0]] for x in enumerate(count) if x[1] == 6]] if x][0]\n",
    "    # difference between one and top_right segment is bottom_right segment\n",
    "    segments[\"bottom_right\"] = num[\"one\"] - segments[\"top_right\"]\n",
    "    \n",
    "    # finding zero/nine using intersection of top_right segment and six-segment numbers\n",
    "    num[\"zero\"] = [numbers[x[0]] for x in enumerate(count) if x[1] == 6 and segments[\"top_right\"].issubset(numbers[x[0]])]\n",
    "    # intersecion of nine/zero and four is nine\n",
    "    num[\"nine\"] = [x for x in num[\"zero\"] if num[\"four\"].issubset(x)][0]\n",
    "    # not nine in zero/nine is zero\n",
    "    num[\"zero\"] = [x for x in num[\"zero\"] if x != num[\"nine\"]][0]\n",
    "    # last six-segment number is six\n",
    "    num[\"six\"] = [x for x in [numbers[x[0]] for x in enumerate(count) if x[1] == 6] if x != num[\"nine\"] and x != num[\"zero\"]][0]\n",
    "    \n",
    "    # one is a subset of three (3 five-segment numbers)\n",
    "    num[\"three\"] = [x for x in [numbers[x[0]] for x in enumerate(count) if x[1] == 5] if num[\"one\"].issubset(x)][0]\n",
    "    # two is the only five-segment number without a bottom_right segment\n",
    "    num[\"two\"] = [x for x in [numbers[x[0]] for x in enumerate(count) if x[1] == 5] if not segments[\"bottom_right\"].issubset(x)][0]\n",
    "    # last five-segment number is five\n",
    "    num[\"five\"] = [x for x in [numbers[x[0]] for x in enumerate(count) if x[1] == 5] if x != num[\"three\"] and x != num[\"two\"]][0]\n",
    "\n",
    "    thisOutput = \"\"\n",
    "    for x in output:\n",
    "        if x == num[\"zero\"]:\n",
    "            thisOutput += \"0\"\n",
    "        elif x == num[\"one\"]:\n",
    "            thisOutput += \"1\"\n",
    "        elif x == num[\"two\"]:\n",
    "            thisOutput += \"2\"\n",
    "        elif x == num[\"three\"]:\n",
    "            thisOutput += \"3\"\n",
    "        elif x == num[\"four\"]:\n",
    "            thisOutput += \"4\"\n",
    "        elif x == num[\"five\"]:\n",
    "            thisOutput += \"5\"\n",
    "        elif x == num[\"six\"]:\n",
    "            thisOutput += \"6\"\n",
    "        elif x == num[\"seven\"]:\n",
    "            thisOutput += \"7\"\n",
    "        elif x == num[\"eight\"]:\n",
    "            thisOutput += \"8\"\n",
    "        elif x == num[\"nine\"]:\n",
    "            thisOutput += \"9\"\n",
    "    total += int(thisOutput)\n",
    "\n",
    "print(total)\n",
    "    \n"
   ]
  }
 ],
 "metadata": {
  "interpreter": {
   "hash": "31f2aee4e71d21fbe5cf8b01ff0e069b9275f58929596ceb00d14d90e3e16cd6"
  },
  "kernelspec": {
   "display_name": "Python 3.7.3 64-bit",
   "language": "python",
   "name": "python3"
  },
  "language_info": {
   "name": "python",
   "version": "3.7.3"
  },
  "orig_nbformat": 4
 },
 "nbformat": 4,
 "nbformat_minor": 2
}
