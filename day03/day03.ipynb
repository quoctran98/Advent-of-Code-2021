{
 "cells": [
  {
   "cell_type": "code",
   "execution_count": 46,
   "metadata": {},
   "outputs": [
    {
     "name": "stdout",
     "output_type": "stream",
     "text": [
      "4147524\n"
     ]
    }
   ],
   "source": [
    "input = open(\"./input.txt\", \"r\").readlines()\n",
    "input = list(map(lambda x: x.rstrip(\"\\n\"), input))\n",
    "\n",
    "allNumbers = [0]*12\n",
    "nNumbers = 0\n",
    "\n",
    "for line in input:\n",
    "    thisNumber = list(map(int, [char for char in line]))\n",
    "    allNumbers = [allNumbers[x] + thisNumber[x] for x in range(len(allNumbers))]\n",
    "    nNumbers += 1\n",
    "\n",
    "gamma = 0\n",
    "epsilon = 0\n",
    "for i in range(len(allNumbers)):\n",
    "    gammaBit = round(allNumbers[i]/nNumbers)\n",
    "    epsilonBit = int(not gammaBit)\n",
    "    place = 2**(11-i)\n",
    "    gamma += gammaBit*place\n",
    "    epsilon += epsilonBit*place\n",
    "\n",
    "print(gamma*epsilon)"
   ]
  },
  {
   "cell_type": "code",
   "execution_count": 96,
   "metadata": {},
   "outputs": [
    {
     "name": "stdout",
     "output_type": "stream",
     "text": [
      "3570354\n"
     ]
    }
   ],
   "source": [
    "input = open(\"./input.txt\", \"r\").readlines()\n",
    "input = list(map(lambda x: x.rstrip(\"\\n\"), input))\n",
    "input = list(map(lambda x: list(map(int, [char for char in x])), input))\n",
    "\n",
    "oxygenInput = input\n",
    "oxygenRating = 0\n",
    "for currentBit in range(len(oxygenInput[0])):\n",
    "    keepBit = sum([i[currentBit] for i in oxygenInput])/len(oxygenInput)\n",
    "    if(keepBit == 0.5):\n",
    "        keepBit = 1 # I hate Python's round()\n",
    "    keepBit = round(keepBit)\n",
    "    oxygenInput = [i for i in oxygenInput if i[currentBit] == keepBit]\n",
    "    if len(oxygenInput) == 1:\n",
    "        oxygenRating = oxygenInput[0]\n",
    "        break\n",
    "\n",
    "coInput = input\n",
    "coRating = 0\n",
    "for currentBit in range(len(coInput[0])):\n",
    "    keepBit = sum([i[currentBit] for i in coInput])/len(coInput)\n",
    "    if(keepBit == 0.5):\n",
    "        keepBit = 1 # I hate Python's round()\n",
    "    keepBit = int(not round(keepBit))\n",
    "    coInput = [i for i in coInput if i[currentBit] == keepBit]\n",
    "    if len(coInput) == 1:\n",
    "        coRating = coInput[0]\n",
    "        break\n",
    "\n",
    "def binList2int(binList):\n",
    "    output = 0\n",
    "    for i in range(len(binList)):\n",
    "        place = 2**(11-i)\n",
    "        output += binList[i]*place\n",
    "    return(output)\n",
    "\n",
    "print(binList2int(oxygenRating)*binList2int(coRating))"
   ]
  },
  {
   "cell_type": "code",
   "execution_count": 71,
   "metadata": {},
   "outputs": [
    {
     "name": "stdout",
     "output_type": "stream",
     "text": [
      "0\n",
      "2\n"
     ]
    }
   ],
   "source": [
    "print(round(0.5))\n",
    "print(round(1.5))"
   ]
  }
 ],
 "metadata": {
  "interpreter": {
   "hash": "31f2aee4e71d21fbe5cf8b01ff0e069b9275f58929596ceb00d14d90e3e16cd6"
  },
  "kernelspec": {
   "display_name": "Python 3.7.3 64-bit",
   "language": "python",
   "name": "python3"
  },
  "language_info": {
   "codemirror_mode": {
    "name": "ipython",
    "version": 3
   },
   "file_extension": ".py",
   "mimetype": "text/x-python",
   "name": "python",
   "nbconvert_exporter": "python",
   "pygments_lexer": "ipython3",
   "version": "3.7.3"
  },
  "orig_nbformat": 4
 },
 "nbformat": 4,
 "nbformat_minor": 2
}
