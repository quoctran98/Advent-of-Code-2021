{
 "cells": [
  {
   "cell_type": "code",
   "execution_count": 4,
   "metadata": {},
   "outputs": [
    {
     "name": "stdout",
     "output_type": "stream",
     "text": [
      "353004\n"
     ]
    }
   ],
   "source": [
    "import statistics\n",
    "\n",
    "input = open(\"./input.txt\", \"r\").read().split(\",\")\n",
    "input = [int(x) for x in input]\n",
    "\n",
    "position = round(statistics.mean(input))\n",
    "\n",
    "print(sum([abs(position-x) for x in input]))"
   ]
  },
  {
   "cell_type": "markdown",
   "metadata": {},
   "source": [
    "I bet this is a pretty close heuristic solution and would be good enough in a real life crab submarine scenario."
   ]
  },
  {
   "cell_type": "code",
   "execution_count": 13,
   "metadata": {},
   "outputs": [
    {
     "name": "stdout",
     "output_type": "stream",
     "text": [
      "340052\n"
     ]
    }
   ],
   "source": [
    "input = open(\"./input.txt\", \"r\").read().split(\",\")\n",
    "input = [int(x) for x in input]\n",
    "\n",
    "lowest = float(\"inf\")\n",
    "for position in range(max(input)):\n",
    "    fuel = sum([abs(position-x) for x in input])\n",
    "    if fuel < lowest:\n",
    "        lowest = fuel\n",
    "print(lowest)"
   ]
  },
  {
   "cell_type": "code",
   "execution_count": 12,
   "metadata": {},
   "outputs": [
    {
     "name": "stdout",
     "output_type": "stream",
     "text": [
      "92948968\n"
     ]
    }
   ],
   "source": [
    "input = open(\"./input.txt\", \"r\").read().split(\",\")\n",
    "input = [int(x) for x in input]\n",
    "\n",
    "def gaussAdd(distance):\n",
    "    return(int(distance * (distance + 1) / 2))\n",
    "\n",
    "lowest = float(\"inf\")\n",
    "for position in range(max(input)):\n",
    "    fuel = sum([gaussAdd(abs(position-x)) for x in input])\n",
    "    if fuel < lowest:\n",
    "        lowest = fuel\n",
    "print(lowest)"
   ]
  }
 ],
 "metadata": {
  "interpreter": {
   "hash": "31f2aee4e71d21fbe5cf8b01ff0e069b9275f58929596ceb00d14d90e3e16cd6"
  },
  "kernelspec": {
   "display_name": "Python 3.7.3 64-bit",
   "language": "python",
   "name": "python3"
  },
  "language_info": {
   "codemirror_mode": {
    "name": "ipython",
    "version": 3
   },
   "file_extension": ".py",
   "mimetype": "text/x-python",
   "name": "python",
   "nbconvert_exporter": "python",
   "pygments_lexer": "ipython3",
   "version": "3.7.3"
  },
  "orig_nbformat": 4
 },
 "nbformat": 4,
 "nbformat_minor": 2
}
